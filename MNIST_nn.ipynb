{
  "nbformat": 4,
  "nbformat_minor": 0,
  "metadata": {
    "colab": {
      "name": "MNIST_nn.ipynb",
      "provenance": [],
      "collapsed_sections": [],
      "include_colab_link": true
    },
    "kernelspec": {
      "name": "python3",
      "display_name": "Python 3"
    },
    "accelerator": "GPU"
  },
  "cells": [
    {
      "cell_type": "markdown",
      "metadata": {
        "id": "view-in-github",
        "colab_type": "text"
      },
      "source": [
        "<a href=\"https://colab.research.google.com/github/tfredrick112/mnist-models/blob/master/MNIST_nn.ipynb\" target=\"_parent\"><img src=\"https://colab.research.google.com/assets/colab-badge.svg\" alt=\"Open In Colab\"/></a>"
      ]
    },
    {
      "cell_type": "code",
      "metadata": {
        "id": "jyYzH5tA-Uof",
        "colab_type": "code",
        "colab": {
          "base_uri": "https://localhost:8080/",
          "height": 289
        },
        "outputId": "da824df6-d7f2-4829-80de-8b7ad79e316e"
      },
      "source": [
        "!nvidia-smi"
      ],
      "execution_count": 76,
      "outputs": [
        {
          "output_type": "stream",
          "text": [
            "Sun Dec 29 06:53:26 2019       \n",
            "+-----------------------------------------------------------------------------+\n",
            "| NVIDIA-SMI 440.44       Driver Version: 418.67       CUDA Version: 10.1     |\n",
            "|-------------------------------+----------------------+----------------------+\n",
            "| GPU  Name        Persistence-M| Bus-Id        Disp.A | Volatile Uncorr. ECC |\n",
            "| Fan  Temp  Perf  Pwr:Usage/Cap|         Memory-Usage | GPU-Util  Compute M. |\n",
            "|===============================+======================+======================|\n",
            "|   0  Tesla P100-PCIE...  Off  | 00000000:00:04.0 Off |                    0 |\n",
            "| N/A   36C    P0    32W / 250W |    419MiB / 16280MiB |      0%      Default |\n",
            "+-------------------------------+----------------------+----------------------+\n",
            "                                                                               \n",
            "+-----------------------------------------------------------------------------+\n",
            "| Processes:                                                       GPU Memory |\n",
            "|  GPU       PID   Type   Process name                             Usage      |\n",
            "|=============================================================================|\n",
            "+-----------------------------------------------------------------------------+\n"
          ],
          "name": "stdout"
        }
      ]
    },
    {
      "cell_type": "code",
      "metadata": {
        "id": "5osfA_Lz-xlX",
        "colab_type": "code",
        "colab": {
          "base_uri": "https://localhost:8080/",
          "height": 153
        },
        "outputId": "d3b77065-c9db-4a50-b640-c6d366adbe0d"
      },
      "source": [
        "pip install keras"
      ],
      "execution_count": 77,
      "outputs": [
        {
          "output_type": "stream",
          "text": [
            "Requirement already satisfied: keras in /usr/local/lib/python3.6/dist-packages (2.2.5)\n",
            "Requirement already satisfied: scipy>=0.14 in /usr/local/lib/python3.6/dist-packages (from keras) (1.3.3)\n",
            "Requirement already satisfied: h5py in /usr/local/lib/python3.6/dist-packages (from keras) (2.8.0)\n",
            "Requirement already satisfied: pyyaml in /usr/local/lib/python3.6/dist-packages (from keras) (3.13)\n",
            "Requirement already satisfied: keras-preprocessing>=1.1.0 in /usr/local/lib/python3.6/dist-packages (from keras) (1.1.0)\n",
            "Requirement already satisfied: numpy>=1.9.1 in /usr/local/lib/python3.6/dist-packages (from keras) (1.17.4)\n",
            "Requirement already satisfied: six>=1.9.0 in /usr/local/lib/python3.6/dist-packages (from keras) (1.12.0)\n",
            "Requirement already satisfied: keras-applications>=1.0.8 in /usr/local/lib/python3.6/dist-packages (from keras) (1.0.8)\n"
          ],
          "name": "stdout"
        }
      ]
    },
    {
      "cell_type": "code",
      "metadata": {
        "id": "5U0UjylU_T2B",
        "colab_type": "code",
        "colab": {}
      },
      "source": [
        "import numpy as np\n",
        "import matplotlib\n",
        "matplotlib.use('agg')\n",
        "import matplotlib.pyplot as plt\n",
        "%matplotlib inline\n",
        "# let's keep our keras backend tensorflow quiet\n",
        "import os\n",
        "os.environ['TF_CPP_MIN_LOG_LEVEL']='3'\n",
        "# for testing on CPU\n",
        "#os.environ['CUDA_VISIBLE_DEVICES'] = ''"
      ],
      "execution_count": 0,
      "outputs": []
    },
    {
      "cell_type": "code",
      "metadata": {
        "id": "5LMuuKzYAH1J",
        "colab_type": "code",
        "colab": {}
      },
      "source": [
        "from keras.datasets import mnist\n",
        "from keras.models import Sequential, load_model\n",
        "from keras.utils import np_utils\n",
        "from keras.layers.core import Dense, Dropout, Activation"
      ],
      "execution_count": 0,
      "outputs": []
    },
    {
      "cell_type": "code",
      "metadata": {
        "id": "ATyKRPYjAdTR",
        "colab_type": "code",
        "colab": {}
      },
      "source": [
        "(X_train, Y_train), (X_test, Y_test) = mnist.load_data()"
      ],
      "execution_count": 0,
      "outputs": []
    },
    {
      "cell_type": "code",
      "metadata": {
        "id": "jdtoqBobCB7c",
        "colab_type": "code",
        "colab": {
          "base_uri": "https://localhost:8080/",
          "height": 282
        },
        "outputId": "ce5e346e-7dfb-4586-b97a-3406caa59a02"
      },
      "source": [
        "plt.imshow(X_train[89]) # to see some random training example"
      ],
      "execution_count": 81,
      "outputs": [
        {
          "output_type": "execute_result",
          "data": {
            "text/plain": [
              "<matplotlib.image.AxesImage at 0x7fa982034978>"
            ]
          },
          "metadata": {
            "tags": []
          },
          "execution_count": 81
        },
        {
          "output_type": "display_data",
          "data": {
            "image/png": "[encoded data removed]",
            "text/plain": [
              "<Figure size 432x288 with 1 Axes>"
            ]
          },
          "metadata": {
            "tags": []
          }
        }
      ]
    },
    {
      "cell_type": "code",
      "metadata": {
        "id": "wWK9pc6HCF_i",
        "colab_type": "code",
        "colab": {
          "base_uri": "https://localhost:8080/",
          "height": 34
        },
        "outputId": "d937c5fe-6bcd-4ef4-ab41-76c5fbdbe7b1"
      },
      "source": [
        "Y_train[89] # label for the above image"
      ],
      "execution_count": 82,
      "outputs": [
        {
          "output_type": "execute_result",
          "data": {
            "text/plain": [
              "4"
            ]
          },
          "metadata": {
            "tags": []
          },
          "execution_count": 82
        }
      ]
    },
    {
      "cell_type": "code",
      "metadata": {
        "id": "-fZdaGdnCfQD",
        "colab_type": "code",
        "colab": {
          "base_uri": "https://localhost:8080/",
          "height": 34
        },
        "outputId": "c796cdeb-b659-4240-882d-8ccf0cbea7dd"
      },
      "source": [
        "X_train[0].shape # shape of one image"
      ],
      "execution_count": 83,
      "outputs": [
        {
          "output_type": "execute_result",
          "data": {
            "text/plain": [
              "(28, 28)"
            ]
          },
          "metadata": {
            "tags": []
          },
          "execution_count": 83
        }
      ]
    },
    {
      "cell_type": "code",
      "metadata": {
        "id": "ONH8Tw5SDYZ6",
        "colab_type": "code",
        "colab": {
          "base_uri": "https://localhost:8080/",
          "height": 284
        },
        "outputId": "978a2013-adf3-4fa6-e619-146d94d6aafc"
      },
      "source": [
        "# We will plot 9 images to see what the data looks like.\n",
        "fig = plt.figure()\n",
        "for i in range(9):\n",
        "  plt.subplot(3, 3, i + 1)\n",
        "  plt.tight_layout()\n",
        "  plt.imshow(X_train[i], cmap = 'gray', interpolation=None)\n",
        "  plt.title(\"Digit {}\".format(Y_train[i]))\n",
        "  plt.xticks([])\n",
        "  plt.yticks([])"
      ],
      "execution_count": 84,
      "outputs": [
        {
          "output_type": "display_data",
          "data": {
            "image/png": "[encoded data removed]",
            "text/plain": [
              "<Figure size 432x288 with 9 Axes>"
            ]
          },
          "metadata": {
            "tags": []
          }
        }
      ]
    },
    {
      "cell_type": "code",
      "metadata": {
        "id": "ZSWTgz-nFK8D",
        "colab_type": "code",
        "colab": {
          "base_uri": "https://localhost:8080/",
          "height": 298
        },
        "outputId": "b604bfa5-7c1d-4992-ccc1-1a29d600d14f"
      },
      "source": [
        "plt.subplot(2,1,1)\n",
        "plt.imshow(X_train[0], cmap='gray', interpolation='none')\n",
        "plt.title(\"Digit: {}\".format(Y_train[0]))\n",
        "plt.xticks([])\n",
        "plt.yticks([])\n",
        "plt.subplot(2,1,2)\n",
        "plt.hist(X_train[0].reshape(784))\n",
        "plt.title(\"Pixel Value Distribution\")"
      ],
      "execution_count": 85,
      "outputs": [
        {
          "output_type": "execute_result",
          "data": {
            "text/plain": [
              "Text(0.5, 1.0, 'Pixel Value Distribution')"
            ]
          },
          "metadata": {
            "tags": []
          },
          "execution_count": 85
        },
        {
          "output_type": "display_data",
          "data": {
            "image/png": "[encoded data removed]",
            "text/plain": [
              "<Figure size 432x288 with 2 Axes>"
            ]
          },
          "metadata": {
            "tags": []
          }
        }
      ]
    },
    {
      "cell_type": "markdown",
      "metadata": {
        "id": "XMX-0xQNIvfd",
        "colab_type": "text"
      },
      "source": [
        "##### Normalization is necessary in order to convert the pixel values to lie between 0 and 1. It helps in speeding up the training process. It also reduces the chances of getting stuck in some local optima. Moreover, we will also unroll the 28 x 28 vector into a one dimensional vector with 784 values and we will treat this as our input vector."
      ]
    },
    {
      "cell_type": "code",
      "metadata": {
        "id": "sdnqwYcfJJOX",
        "colab_type": "code",
        "colab": {
          "base_uri": "https://localhost:8080/",
          "height": 85
        },
        "outputId": "560c7775-1170-4b59-ffc0-d98a137e979f"
      },
      "source": [
        "print(\"Original shape of X_train: \",X_train.shape)\n",
        "print(\"Original shape of Y_train: \",Y_train.shape)\n",
        "print(\"Original shape of X_test: \",X_test.shape)\n",
        "print(\"Original shape of Y_test: \",Y_test.shape)"
      ],
      "execution_count": 86,
      "outputs": [
        {
          "output_type": "stream",
          "text": [
            "Original shape of X_train:  (60000, 28, 28)\n",
            "Original shape of Y_train:  (60000,)\n",
            "Original shape of X_test:  (10000, 28, 28)\n",
            "Original shape of Y_test:  (10000,)\n"
          ],
          "name": "stdout"
        }
      ]
    },
    {
      "cell_type": "code",
      "metadata": {
        "id": "Q_tTGAKqJjg9",
        "colab_type": "code",
        "colab": {
          "base_uri": "https://localhost:8080/",
          "height": 51
        },
        "outputId": "fbeb4b46-f5ff-4b34-d87e-e3af41bc117d"
      },
      "source": [
        "# building the input vectors\n",
        "X_train = X_train.reshape(60000, 784)\n",
        "X_test = X_test.reshape(10000, 784)\n",
        "\n",
        "X_train = X_train.astype('float32')\n",
        "X_test = X_test.astype('float32')\n",
        "\n",
        "# normalizing the data\n",
        "X_train = X_train/255.0\n",
        "X_test = X_test/255.0\n",
        "\n",
        "# printing the final shapes of X_train and X_test\n",
        "print(\"Train matrix shape\", X_train.shape)\n",
        "print(\"Test matrix shape\", X_test.shape)"
      ],
      "execution_count": 87,
      "outputs": [
        {
          "output_type": "stream",
          "text": [
            "Train matrix shape (60000, 784)\n",
            "Test matrix shape (10000, 784)\n"
          ],
          "name": "stdout"
        }
      ]
    },
    {
      "cell_type": "code",
      "metadata": {
        "id": "9v2-BrtMJ_oc",
        "colab_type": "code",
        "colab": {
          "base_uri": "https://localhost:8080/",
          "height": 51
        },
        "outputId": "f8c11056-e967-4aac-8719-53acf979c7e4"
      },
      "source": [
        "# let us now convert the ground truth labels into one-hot vectors.\n",
        "# we can use the to_categorical function from keras.utils.np_utils\n",
        "print(\"Original shape of Y_train: \",Y_train.shape)\n",
        "n_classes = 10\n",
        "Y_train = np_utils.to_categorical(Y_train, num_classes=n_classes)\n",
        "Y_test = np_utils.to_categorical(Y_test, n_classes)\n",
        "print(\"Shape after one-hot encoding: \", Y_train.shape)"
      ],
      "execution_count": 88,
      "outputs": [
        {
          "output_type": "stream",
          "text": [
            "Original shape of Y_train:  (60000,)\n",
            "Shape after one-hot encoding:  (60000, 10)\n"
          ],
          "name": "stdout"
        }
      ]
    },
    {
      "cell_type": "markdown",
      "metadata": {
        "id": "-ZCA5OSDLVNa",
        "colab_type": "text"
      },
      "source": [
        "The input vector has 784 values. We will feed this into a neural network with 2 hidden layers, each having 512 neurons. The output layer has 10 neurons, as we have 10 classes to predict."
      ]
    },
    {
      "cell_type": "code",
      "metadata": {
        "id": "ZpFMI3IOLnQD",
        "colab_type": "code",
        "colab": {}
      },
      "source": [
        "# we build a Sequential Model using keras\n",
        "model = Sequential()\n",
        "model.add(Dense(512, input_shape=(784,)))\n",
        "model.add(Activation('relu'))\n",
        "model.add(Dropout(0.2))\n",
        "\n",
        "model.add(Dense(512))\n",
        "model.add(Activation('relu'))\n",
        "model.add(Dropout(0.2))\n",
        "\n",
        "model.add(Dense(10))\n",
        "model.add(Activation('softmax'))"
      ],
      "execution_count": 0,
      "outputs": []
    },
    {
      "cell_type": "code",
      "metadata": {
        "id": "t0k2hZjPMblE",
        "colab_type": "code",
        "colab": {}
      },
      "source": [
        "model.compile(optimizer='adam', loss='categorical_crossentropy', metrics=['accuracy'])"
      ],
      "execution_count": 0,
      "outputs": []
    },
    {
      "cell_type": "code",
      "metadata": {
        "id": "m-H0ByyYMzcz",
        "colab_type": "code",
        "colab": {
          "base_uri": "https://localhost:8080/",
          "height": 714
        },
        "outputId": "3e3a9ad4-d252-48f7-fc40-779c107b4521"
      },
      "source": [
        "history = model.fit(X_train, Y_train, batch_size=128, epochs=20, validation_data=(X_test, Y_test))"
      ],
      "execution_count": 98,
      "outputs": [
        {
          "output_type": "stream",
          "text": [
            "Train on 60000 samples, validate on 10000 samples\n",
            "Epoch 1/20\n",
            "60000/60000 [==============================] - 2s 39us/step - loss: 0.2513 - acc: 0.9238 - val_loss: 0.1076 - val_acc: 0.9665\n",
            "Epoch 2/20\n",
            "60000/60000 [==============================] - 2s 33us/step - loss: 0.0999 - acc: 0.9688 - val_loss: 0.0725 - val_acc: 0.9789\n",
            "Epoch 3/20\n",
            "60000/60000 [==============================] - 2s 34us/step - loss: 0.0730 - acc: 0.9775 - val_loss: 0.0690 - val_acc: 0.9786\n",
            "Epoch 4/20\n",
            "60000/60000 [==============================] - 2s 33us/step - loss: 0.0571 - acc: 0.9817 - val_loss: 0.0675 - val_acc: 0.9790\n",
            "Epoch 5/20\n",
            "60000/60000 [==============================] - 2s 33us/step - loss: 0.0457 - acc: 0.9850 - val_loss: 0.0764 - val_acc: 0.9770\n",
            "Epoch 6/20\n",
            "60000/60000 [==============================] - 2s 34us/step - loss: 0.0425 - acc: 0.9862 - val_loss: 0.0651 - val_acc: 0.9807\n",
            "Epoch 7/20\n",
            "60000/60000 [==============================] - 2s 33us/step - loss: 0.0330 - acc: 0.9889 - val_loss: 0.0838 - val_acc: 0.9778\n",
            "Epoch 8/20\n",
            "60000/60000 [==============================] - 2s 34us/step - loss: 0.0317 - acc: 0.9898 - val_loss: 0.0693 - val_acc: 0.9816\n",
            "Epoch 9/20\n",
            "60000/60000 [==============================] - 2s 35us/step - loss: 0.0281 - acc: 0.9907 - val_loss: 0.0644 - val_acc: 0.9824\n",
            "Epoch 10/20\n",
            "60000/60000 [==============================] - 2s 33us/step - loss: 0.0239 - acc: 0.9923 - val_loss: 0.0659 - val_acc: 0.9830\n",
            "Epoch 11/20\n",
            "60000/60000 [==============================] - 2s 33us/step - loss: 0.0224 - acc: 0.9925 - val_loss: 0.0717 - val_acc: 0.9832\n",
            "Epoch 12/20\n",
            "60000/60000 [==============================] - 2s 33us/step - loss: 0.0221 - acc: 0.9924 - val_loss: 0.0749 - val_acc: 0.9833\n",
            "Epoch 13/20\n",
            "60000/60000 [==============================] - 2s 33us/step - loss: 0.0216 - acc: 0.9926 - val_loss: 0.0736 - val_acc: 0.9842\n",
            "Epoch 14/20\n",
            "60000/60000 [==============================] - 2s 33us/step - loss: 0.0200 - acc: 0.9933 - val_loss: 0.0745 - val_acc: 0.9822\n",
            "Epoch 15/20\n",
            "60000/60000 [==============================] - 2s 34us/step - loss: 0.0196 - acc: 0.9933 - val_loss: 0.0791 - val_acc: 0.9828\n",
            "Epoch 16/20\n",
            "60000/60000 [==============================] - 2s 32us/step - loss: 0.0159 - acc: 0.9950 - val_loss: 0.0718 - val_acc: 0.9823\n",
            "Epoch 17/20\n",
            "60000/60000 [==============================] - 2s 34us/step - loss: 0.0174 - acc: 0.9944 - val_loss: 0.0804 - val_acc: 0.9830\n",
            "Epoch 18/20\n",
            "60000/60000 [==============================] - 2s 32us/step - loss: 0.0165 - acc: 0.9947 - val_loss: 0.0762 - val_acc: 0.9834\n",
            "Epoch 19/20\n",
            "60000/60000 [==============================] - 2s 32us/step - loss: 0.0161 - acc: 0.9948 - val_loss: 0.0849 - val_acc: 0.9823\n",
            "Epoch 20/20\n",
            "60000/60000 [==============================] - 2s 34us/step - loss: 0.0146 - acc: 0.9953 - val_loss: 0.0848 - val_acc: 0.9810\n"
          ],
          "name": "stdout"
        }
      ]
    },
    {
      "cell_type": "code",
      "metadata": {
        "id": "FN39d4wvPAt_",
        "colab_type": "code",
        "colab": {}
      },
      "source": [
        "model.save('MNIST_1.h5')"
      ],
      "execution_count": 0,
      "outputs": []
    },
    {
      "cell_type": "code",
      "metadata": {
        "id": "lohVFcuCPpkY",
        "colab_type": "code",
        "colab": {
          "base_uri": "https://localhost:8080/",
          "height": 297
        },
        "outputId": "0752e7e2-cca1-4198-9c52-62a65047f088"
      },
      "source": [
        "plt.subplot(2,1,1)\n",
        "plt.plot(history.history['acc'])\n",
        "plt.plot(history.history['val_acc'])\n",
        "plt.title('model accuracy')\n",
        "plt.ylabel('accuracy')\n",
        "plt.xlabel('epoch')\n",
        "plt.legend(['train', 'test'], loc='lower right')\n",
        "\n",
        "plt.subplot(2,1,2)\n",
        "plt.plot(history.history['loss'])\n",
        "plt.plot(history.history['val_loss'])\n",
        "plt.title('model loss')\n",
        "plt.ylabel('loss')\n",
        "plt.xlabel('epoch')\n",
        "plt.legend(['train', 'test'], loc='upper right')\n",
        "\n",
        "plt.tight_layout()"
      ],
      "execution_count": 100,
      "outputs": [
        {
          "output_type": "display_data",
          "data": {
            "image/png": "[encoded data removed]",
            "text/plain": [
              "<Figure size 432x288 with 2 Axes>"
            ]
          },
          "metadata": {
            "tags": []
          }
        }
      ]
    },
    {
      "cell_type": "code",
      "metadata": {
        "id": "q3-DorgwTKzd",
        "colab_type": "code",
        "colab": {
          "base_uri": "https://localhost:8080/",
          "height": 51
        },
        "outputId": "f0000987-6b5b-4ddc-aaff-1ec943b1a0d7"
      },
      "source": [
        "loss_and_metrics = model.evaluate(X_test, Y_test, verbose=2)\n",
        "print(\"Test Loss\", loss_and_metrics[0])\n",
        "print(\"Test Accuracy\", loss_and_metrics[1])"
      ],
      "execution_count": 101,
      "outputs": [
        {
          "output_type": "stream",
          "text": [
            "Test Loss 0.08484305098944851\n",
            "Test Accuracy 0.981\n"
          ],
          "name": "stdout"
        }
      ]
    },
    {
      "cell_type": "code",
      "metadata": {
        "id": "hMO5EMxqTNV0",
        "colab_type": "code",
        "colab": {}
      },
      "source": [
        "Y_predicted = model.predict(X_test)"
      ],
      "execution_count": 0,
      "outputs": []
    },
    {
      "cell_type": "code",
      "metadata": {
        "id": "N1OOtz7iTPgO",
        "colab_type": "code",
        "colab": {
          "base_uri": "https://localhost:8080/",
          "height": 34
        },
        "outputId": "51d8da39-5d85-49c5-ca19-d89ece9cf20e"
      },
      "source": [
        "np.argmax(Y_predicted[0])"
      ],
      "execution_count": 103,
      "outputs": [
        {
          "output_type": "execute_result",
          "data": {
            "text/plain": [
              "7"
            ]
          },
          "metadata": {
            "tags": []
          },
          "execution_count": 103
        }
      ]
    },
    {
      "cell_type": "code",
      "metadata": {
        "id": "qvptmZY1TTNU",
        "colab_type": "code",
        "colab": {
          "base_uri": "https://localhost:8080/",
          "height": 282
        },
        "outputId": "79db4237-3cd2-4257-aa5a-1b347658cda4"
      },
      "source": [
        "plt.imshow(X_test[0].reshape(28, 28))"
      ],
      "execution_count": 104,
      "outputs": [
        {
          "output_type": "execute_result",
          "data": {
            "text/plain": [
              "<matplotlib.image.AxesImage at 0x7fa9f45721d0>"
            ]
          },
          "metadata": {
            "tags": []
          },
          "execution_count": 104
        },
        {
          "output_type": "display_data",
          "data": {
            "image/png": "[encoded data removed]",
            "text/plain": [
              "<Figure size 432x288 with 1 Axes>"
            ]
          },
          "metadata": {
            "tags": []
          }
        }
      ]
    },
    {
      "cell_type": "code",
      "metadata": {
        "id": "rH-Ugm26fFo1",
        "colab_type": "code",
        "colab": {}
      },
      "source": [
        "Y_check = np.array([np.argmax(test) for test in Y_test])"
      ],
      "execution_count": 0,
      "outputs": []
    },
    {
      "cell_type": "code",
      "metadata": {
        "id": "e8CE3odXfNj4",
        "colab_type": "code",
        "colab": {}
      },
      "source": [
        "mnist_model = load_model('MNIST_1.h5')\n",
        "predicted_classes = mnist_model.predict_classes(X_test)\n",
        "\n",
        "# see which we predicted correctly and which not\n",
        "correct_indices = np.nonzero(predicted_classes == Y_check)[0]\n",
        "incorrect_indices = np.nonzero(predicted_classes != Y_check)[0]"
      ],
      "execution_count": 0,
      "outputs": []
    },
    {
      "cell_type": "code",
      "metadata": {
        "id": "0lNMd7WjfhWx",
        "colab_type": "code",
        "colab": {
          "base_uri": "https://localhost:8080/",
          "height": 34
        },
        "outputId": "205dfd91-7921-4f7b-f1ef-686596a13998"
      },
      "source": [
        "len(correct_indices)"
      ],
      "execution_count": 128,
      "outputs": [
        {
          "output_type": "execute_result",
          "data": {
            "text/plain": [
              "9810"
            ]
          },
          "metadata": {
            "tags": []
          },
          "execution_count": 128
        }
      ]
    },
    {
      "cell_type": "code",
      "metadata": {
        "id": "YUtCd8rKfmKX",
        "colab_type": "code",
        "colab": {
          "base_uri": "https://localhost:8080/",
          "height": 34
        },
        "outputId": "483d8f69-f3c9-40f0-e856-22322687fa47"
      },
      "source": [
        "len(incorrect_indices)"
      ],
      "execution_count": 129,
      "outputs": [
        {
          "output_type": "execute_result",
          "data": {
            "text/plain": [
              "190"
            ]
          },
          "metadata": {
            "tags": []
          },
          "execution_count": 129
        }
      ]
    },
    {
      "cell_type": "code",
      "metadata": {
        "id": "gXBjxddVgUlz",
        "colab_type": "code",
        "colab": {}
      },
      "source": [
        "# Let us see what kind of images the model is predicting incorrectly"
      ],
      "execution_count": 0,
      "outputs": []
    },
    {
      "cell_type": "code",
      "metadata": {
        "id": "alb8I1kqgxYB",
        "colab_type": "code",
        "colab": {
          "base_uri": "https://localhost:8080/",
          "height": 297
        },
        "outputId": "dce206b1-d74f-4616-9f62-3906968c3b3a"
      },
      "source": [
        "j = 0\n",
        "for i in incorrect_indices[:9]:\n",
        "  j += 1\n",
        "  plt.subplot(3, 3, j)\n",
        "  plt.imshow(X_test[i].reshape(28, 28), cmap = 'gray')\n",
        "  plt.xticks([])\n",
        "  plt.yticks([])\n",
        "  plt.title(\"Predicted: {}, correct: {}\".format(predicted_classes[i], Y_check[i]))\n",
        "plt.tight_layout()"
      ],
      "execution_count": 137,
      "outputs": [
        {
          "output_type": "display_data",
          "data": {
            "image/png": "[encoded data removed]",
            "text/plain": [
              "<Figure size 432x288 with 9 Axes>"
            ]
          },
          "metadata": {
            "tags": []
          }
        }
      ]
    }
  ]
}